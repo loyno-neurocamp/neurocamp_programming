{
 "cells": [
  {
   "cell_type": "markdown",
   "metadata": {},
   "source": [
    "# NeuroCamp Computer Science & Programming Day - Starter Notebook\n",
    "\n",
    "1. Introduce the Jupyter Notebook, and run a \"Hello World!\" program in a notebook.\n",
    "2. Variables and variable access.\n",
    "3. I/O & load data from file.\n",
    "4. Functions and modules. (We've used a function already!)\n",
    "5. Loops and iteration.\n",
    "6. Row field access. (Remember accessing values in a list by position or in a dictionary by key?)\n",
    "7. Type conversions and template strings for output formatting.\n",
    "8. Write formatted output to screen.\n",
    "9. Math (i.e., change in measurement from A to B, percentage).\n",
    "10. Conditionals.\n",
    "\n",
    "## 1. Introduce the Jupyter Notebook, and run a \"Hello World!\" program in a notebook\n",
    "\n",
    "This file that you are working with is called a Jupyter Notebook. It allows you to add and run code in locations within the file called \"cells\". Cells that run code will have square brackets in front of them, and may also have a cell number within them.\n",
    "\n",
    "For our work, we'll be using the Python language (version 3.7, currently). If you look at the top right of the window, you should see \"Python 3\". This is the language indicator, and shows you what language the file is expected to use.\n",
    "\n",
    "At the top left of this pane, you'll see the toolbar. That lets you control what's happening in the file and within the current cell. Most importantly, the right-most dropdown allows you to change a cell from \"Markdown\" explanatory text mode to \"Code\" Python programming mode.\n",
    "\n",
    "In the cell below, we use Python 3's built-in `print` function to write `Hello, World!` to the output console (displayed below the cell when it is run). We'll talk more about functions later. For now, just make sure you understand the mechanics of how the notebook interface works.\n",
    "\n",
    "**Feel free to play with the code cell below, and see if you can change the word `\"World\"` to display your name.**"
   ]
  },
  {
   "cell_type": "code",
   "execution_count": 11,
   "metadata": {},
   "outputs": [
    {
     "name": "stdout",
     "output_type": "stream",
     "text": [
      "Hello, World!\n"
     ]
    }
   ],
   "source": [
    "print(\"Hello, World!\")"
   ]
  },
  {
   "cell_type": "markdown",
   "metadata": {},
   "source": [
    "## 2. Variables and variable access\n",
    "\n",
    "One thing we do frequently when writing programs is create variables to store data in memory that we can retrieve later. You can think of a \"variable\" as a box in which you put a piece of data called a \"value\".\n",
    "\n",
    "You may have seen variables in algebra. When we do math, variables can only hold numbers.\n",
    "\n",
    "When we write programs, the data that variables hold can have different types:\n",
    "\n",
    "* text (called \"strings\")\n",
    "* numbers (which can be \"integer\", \"float\", \"double\" and more)\n",
    "* true/false (called \"boolean\")\n",
    "* other types of single values\n",
    "* structured and hierarchical data, such as lists, mappings (called \"Dictionaries\") and more (We'll see some of those later.)\n",
    "\n",
    "Some languages require a different kind of box for each type of data you might want to put in. Python is gentler and allows us to put arbitrary types of data into the same variable. However, once you put a type of data into the variable, Python expects you to follow the rules of that type of data.\n",
    "\n",
    "In the next cell, we're creating a couple string variables and then printing their values. Notice that the `print` function can accept variables representing the text (\"string\" value) to be written to the output.\n",
    "\n",
    "**Once again, you should play with the code below and see if you can change the variable values.**"
   ]
  },
  {
   "cell_type": "code",
   "execution_count": 10,
   "metadata": {},
   "outputs": [
    {
     "name": "stdout",
     "output_type": "stream",
     "text": [
      "Hello, World!\n",
      "Bienvenue, Arabella!\n"
     ]
    }
   ],
   "source": [
    "greeting = \"Hello\"\n",
    "name = \"World\"\n",
    "\n",
    "print(greeting + \", \" + name + \"!\")\n",
    "\n",
    "greeting = \"Bienvenue\"\n",
    "name = \"Arabella\"\n",
    "\n",
    "print(greeting + \", \" + name + \"!\")"
   ]
  },
  {
   "cell_type": "markdown",
   "metadata": {},
   "source": [
    "As you see, we can use variables in \"expressions\", like we did when we wrote `greeting + \", \" + name + \"!\"`. That expression performs an operation called \"concatenation\" on the text given to it, providing us with a new string value that has all the text smashed together."
   ]
  },
  {
   "cell_type": "markdown",
   "metadata": {},
   "source": [
    "**_Aside_**: Note that we don't actually need the last `print` statement, since here in a notebook, entering only an expression (or even just a variable name by itself) as the last statement in a cell will evaluate that expression and print the value to the output area, as below. (Note, however, that the same is not true for values not at the end of the cell.)"
   ]
  },
  {
   "cell_type": "code",
   "execution_count": 8,
   "metadata": {},
   "outputs": [
    {
     "data": {
      "text/plain": [
       "'Bienvenue, Arabella!'"
      ]
     },
     "execution_count": 8,
     "metadata": {},
     "output_type": "execute_result"
    }
   ],
   "source": [
    "greeting = \"Hello\"\n",
    "name = \"World\"\n",
    "\n",
    "greeting + \", \" + name + \"!\"\n",
    "\n",
    "greeting = \"Bienvenue\"\n",
    "name = \"Arabella\"\n",
    "\n",
    "greeting + \", \" + name + \"!\""
   ]
  },
  {
   "cell_type": "markdown",
   "metadata": {},
   "source": [
    "Expressions with number values also allow us to do mathematics, and more generally, expressions allow for manipulate the data stored in our variables.\n",
    "\n",
    "In the below cell, we are creating two variables, then using them to create four more variables where the values are computed using expressions.\n",
    "\n",
    "**Explore the code below to get a feel for how expressions work. For example, you might try to change the variable used in an expression, modify the mathematical operation used, or change the values of `a` and `b`.**"
   ]
  },
  {
   "cell_type": "code",
   "execution_count": 2,
   "metadata": {},
   "outputs": [
    {
     "name": "stdout",
     "output_type": "stream",
     "text": [
      "a = 1 , b = 2 , c = 3 , d = -1 , e = 2 , f = 0.5\n"
     ]
    }
   ],
   "source": [
    "a = 1\n",
    "b = 2\n",
    "c = a + b\n",
    "d = a - b\n",
    "e = a * b\n",
    "f = a / b\n",
    "\n",
    "print(\"a =\", a, \", b =\", b, \", c =\", c, \", d =\", d, \", e =\", e, \", f =\", f)"
   ]
  },
  {
   "cell_type": "markdown",
   "metadata": {},
   "source": [
    "## 3. I/O & load data from file\n",
    "\n",
    "When programming, \"I/O\" usually refers to \"input/output\", or the process of reading data from outside the program and delivering data outside the program.\n",
    "\n",
    "We've already seen an I/O function: `print`. The `print` function is used to deliver string data from within the program to the screen, which lives outside the program.\n",
    "\n",
    "Often, when working with I/O, we'll need to read from a file. In Python, files can be opened for reading using the `open` function, and lines can be read from the opened file using the `read` function.\n",
    "\n",
    "Below, we read from our data file, located at `./data/data.csv` and print it to the screen."
   ]
  },
  {
   "cell_type": "code",
   "execution_count": 4,
   "metadata": {},
   "outputs": [
    {
     "name": "stdout",
     "output_type": "stream",
     "text": [
      "Subject,OSPAN_Group,OSPAN_Score,Distracter_easy,Distracter_hard\n",
      "1,High,75,114.5,116.0\n",
      "2,High,75,146.6,106.9\n",
      "3,High,71,152.7,126.7\n",
      "4,High,71,105.3,99.2\n",
      "5,High,69,108.4,108.4\n",
      "6,High,67,120.6,113.0\n",
      "7,High,64,114.5,99.2\n",
      "8,High,63,175.9,146.0\n",
      "9,High,61,114.6,118.4\n",
      "10,High,58,163.4,100.8\n",
      "11,High,57,109.9,109.9\n",
      "12,High,55,129.8,90.1\n",
      "13,High,55,111.4,120.6\n",
      "14,High,55,125.2,120.6\n",
      "15,High,55,140.5,77.9\n",
      "16,High,55,161.3,152.1\n",
      "17,Low,52,120.6,123.7\n",
      "18,Low,51,142.0,128.2\n",
      "19,Low,51,117.6,129.8\n",
      "20,Low,50,116.0,109.9\n",
      "21,Low,48,151.1,152.7\n",
      "22,Low,46,119.1,106.9\n",
      "23,Low,41,142.0,135.9\n",
      "24,Low,38,116.1,107.7\n",
      "25,Low,38,135.9,109.9\n",
      "26,Low,36,148.1,117.6\n",
      "27,Low,22,163.4,154.2\n",
      "28,Low,20,120.6,106.9\n",
      "29,Low,19,106.1,107.7\n",
      "\n"
     ]
    }
   ],
   "source": [
    "opened_file = open('./data/data.csv')\n",
    "contents = opened_file.read()\n",
    "print(contents)\n",
    "opened_file.close()"
   ]
  },
  {
   "cell_type": "markdown",
   "metadata": {},
   "source": [
    "This is great! We can make it a bit better, though.\n",
    "\n",
    "Programmers often implement tools in computer languages to help them avoid problems. In this case, we have to remember to close the file after we're finished reading data from it. If we forget to do that, it can cause problems later on when trying to read the file, or even within the program.\n",
    "\n",
    "To avoid this problem, the Python developers added a convenient way to write this same code that automatically closes the file when done. This uses something called \"block syntax\", which means that there is a collection of statements that are indented that represent all the things we want to do with the file while it is open. The block is started with a `with` statement."
   ]
  },
  {
   "cell_type": "code",
   "execution_count": 5,
   "metadata": {},
   "outputs": [
    {
     "name": "stdout",
     "output_type": "stream",
     "text": [
      "Subject,OSPAN_Group,OSPAN_Score,Distracter_easy,Distracter_hard\n",
      "1,High,75,114.5,116.0\n",
      "2,High,75,146.6,106.9\n",
      "3,High,71,152.7,126.7\n",
      "4,High,71,105.3,99.2\n",
      "5,High,69,108.4,108.4\n",
      "6,High,67,120.6,113.0\n",
      "7,High,64,114.5,99.2\n",
      "8,High,63,175.9,146.0\n",
      "9,High,61,114.6,118.4\n",
      "10,High,58,163.4,100.8\n",
      "11,High,57,109.9,109.9\n",
      "12,High,55,129.8,90.1\n",
      "13,High,55,111.4,120.6\n",
      "14,High,55,125.2,120.6\n",
      "15,High,55,140.5,77.9\n",
      "16,High,55,161.3,152.1\n",
      "17,Low,52,120.6,123.7\n",
      "18,Low,51,142.0,128.2\n",
      "19,Low,51,117.6,129.8\n",
      "20,Low,50,116.0,109.9\n",
      "21,Low,48,151.1,152.7\n",
      "22,Low,46,119.1,106.9\n",
      "23,Low,41,142.0,135.9\n",
      "24,Low,38,116.1,107.7\n",
      "25,Low,38,135.9,109.9\n",
      "26,Low,36,148.1,117.6\n",
      "27,Low,22,163.4,154.2\n",
      "28,Low,20,120.6,106.9\n",
      "29,Low,19,106.1,107.7\n",
      "\n"
     ]
    }
   ],
   "source": [
    "with open('./data/data.csv') as opened_file:\n",
    "    contents = opened_file.read()\n",
    "    print(contents)"
   ]
  },
  {
   "cell_type": "markdown",
   "metadata": {},
   "source": [
    "It's great that we can see all the data, but right now, we're getting one variable `contents` that contains the entire file. Since this is tabular data, it would be nice to be able to get each row separately. For this, we need to look at a couple data structures: lists and Dictionaries, and to learn about...\n",
    "\n",
    "## 4. Storing data\n",
    "\n",
    "The list and dictionary data types were mentioned briefly above. Now we'll look at them more closely.\n",
    "\n",
    "### Lists (also known as \"Arrays\")\n",
    "\n",
    "A list in Python is an ordered collection of data. List values are written in Python as comma-separated lists enclosed in square brackets.\n",
    "\n",
    "For example, in the next cell, we're defining a list containing the first 10 positive integers, and assigning that list-type value to the variable `my_list`."
   ]
  },
  {
   "cell_type": "code",
   "execution_count": 7,
   "metadata": {},
   "outputs": [
    {
     "data": {
      "text/plain": [
       "[1, 2, 3, 4, 5, 6, 7, 8, 9, 10]"
      ]
     },
     "execution_count": 7,
     "metadata": {},
     "output_type": "execute_result"
    }
   ],
   "source": [
    "my_list = [1, 2, 3, 4, 5, 6, 7, 8, 9, 10]\n",
    "\n",
    "my_list"
   ]
  },
  {
   "cell_type": "markdown",
   "metadata": {},
   "source": [
    "Lists can contain other types of data. For example, the following is a list of string values."
   ]
  },
  {
   "cell_type": "code",
   "execution_count": 10,
   "metadata": {},
   "outputs": [
    {
     "data": {
      "text/plain": [
       "['My', 'friend', 'ate', 'a', 'hot', 'dog', 'for', 'lunch']"
      ]
     },
     "execution_count": 10,
     "metadata": {},
     "output_type": "execute_result"
    }
   ],
   "source": [
    "['My', 'friend', 'ate', 'a', 'hot', 'dog', 'for', 'lunch']"
   ]
  },
  {
   "cell_type": "markdown",
   "metadata": {},
   "source": [
    "If needed, we can put a variety of data types in the same list."
   ]
  },
  {
   "cell_type": "code",
   "execution_count": 13,
   "metadata": {},
   "outputs": [
    {
     "data": {
      "text/plain": [
       "['This', 'list', 'has', 0, 'and', 8, 'and', False]"
      ]
     },
     "execution_count": 13,
     "metadata": {},
     "output_type": "execute_result"
    }
   ],
   "source": [
    "['This', 'list', 'has', 0, 'and', 8, 'and', False]"
   ]
  },
  {
   "cell_type": "markdown",
   "metadata": {},
   "source": [
    "Values in a list are called \"elements.\" To **access** the elements of a list, we can use the \"index\" of the element, which is a number representing the value's position within the list, starting from `0`.\n",
    "\n",
    "For example, using `my_list` defined above, we can expect that the index `0`, our starting point, represents the first value in the list, `1`. Similarly, the index 5 refers to the fifth value in the list, which is `6`.\n",
    "\n",
    "Let's see this in action.\n",
    "\n",
    "**Play with the code below to explore lists. Here are a few things you might try:**\n",
    "\n",
    "* What happens if you ask for the element at an index that is bigger than the length of the list?\n",
    "* What happens if you ask for the element at an index that is negative?\n",
    "* How would you retrieve the value 8 from the list?"
   ]
  },
  {
   "cell_type": "code",
   "execution_count": 22,
   "metadata": {},
   "outputs": [
    {
     "data": {
      "text/plain": [
       "5"
      ]
     },
     "execution_count": 22,
     "metadata": {},
     "output_type": "execute_result"
    }
   ],
   "source": [
    "my_list[4]"
   ]
  },
  {
   "cell_type": "markdown",
   "metadata": {},
   "source": [
    "Were you able to answer the questions? OK! Let's apply this then.\n",
    "\n",
    "**Now write a piece of code below that inspects the given array and reports the 3rd, 6th, and 9th elements by printing them to the screen.**\n",
    "\n",
    "**Then, create a list of your top 3 favorite foods.**"
   ]
  },
  {
   "cell_type": "code",
   "execution_count": 32,
   "metadata": {},
   "outputs": [],
   "source": [
    "words = [\n",
    "    'This',\n",
    "    'is',\n",
    "    'my',\n",
    "    'wonderful',\n",
    "    'pet',\n",
    "    'python',\n",
    "    'Guido',\n",
    "    'who',\n",
    "    'enjoys',\n",
    "    'life',\n",
    "    'greatly'\n",
    "]"
   ]
  },
  {
   "cell_type": "code",
   "execution_count": 34,
   "metadata": {},
   "outputs": [],
   "source": [
    "# Enter your code here\n",
    "\n",
    "# A. Print the 3rd, 6th and 9th elements of the given list of words to the output.\n",
    "\n",
    "# B. Create a new list of your top 3 favorite foods, and print that to the output.\n"
   ]
  },
  {
   "cell_type": "markdown",
   "metadata": {},
   "source": [
    "We can also modify list values after creation. To do this, we first select the element we want to change (as we did above), then use the equals sign to assign a new value to the list element."
   ]
  },
  {
   "cell_type": "code",
   "execution_count": 36,
   "metadata": {},
   "outputs": [
    {
     "data": {
      "text/plain": [
       "['This',\n",
       " 'is',\n",
       " 'my',\n",
       " 'amazing',\n",
       " 'pet',\n",
       " 'python',\n",
       " 'Guido',\n",
       " 'who',\n",
       " 'enjoys',\n",
       " 'life',\n",
       " 'greatly']"
      ]
     },
     "execution_count": 36,
     "metadata": {},
     "output_type": "execute_result"
    }
   ],
   "source": [
    "words[3] = 'amazing'\n",
    "\n",
    "words"
   ]
  },
  {
   "cell_type": "markdown",
   "metadata": {},
   "source": [
    "There are many more ways to interact with lists. To learn more about lists and how they work, you can review [the Python tutorial section for them here](https://docs.python.org/3/tutorial/introduction.html#lists), and [the more detailed documentation here](https://docs.python.org/3/tutorial/datastructures.html#more-on-lists).\n",
    "\n",
    "### Tuples (like lists, but \"immutable\")\n",
    "\n",
    "Variable types that allow the value to be changed after creation, like lists and strings and integers, are called \"mutable\" types.\n",
    "\n",
    "There are also usually similar types that do not allow the value to be changed after creation. These are called \"immutable\" types, and in general, are referred to as \"constants\" rather than \"variables\". We'll look at one of those now.\n",
    "\n",
    "An immutable type related to the python list is a tuple. Tuples are created the same way we create lists, but using parentheses instead of square brackets."
   ]
  },
  {
   "cell_type": "code",
   "execution_count": 37,
   "metadata": {},
   "outputs": [
    {
     "data": {
      "text/plain": [
       "('my', 'tuple', 'value')"
      ]
     },
     "execution_count": 37,
     "metadata": {},
     "output_type": "execute_result"
    }
   ],
   "source": [
    "('my', 'tuple', 'value')"
   ]
  },
  {
   "cell_type": "code",
   "execution_count": 38,
   "metadata": {},
   "outputs": [
    {
     "name": "stdout",
     "output_type": "stream",
     "text": [
      "(2, 'values', 'here', False)\n",
      "here\n"
     ]
    },
    {
     "ename": "TypeError",
     "evalue": "'tuple' object does not support item assignment",
     "output_type": "error",
     "traceback": [
      "\u001b[0;31m---------------------------------------------------------------------------\u001b[0m",
      "\u001b[0;31mTypeError\u001b[0m                                 Traceback (most recent call last)",
      "\u001b[0;32m<ipython-input-38-517e4b8b58d7>\u001b[0m in \u001b[0;36m<module>\u001b[0;34m\u001b[0m\n\u001b[1;32m      5\u001b[0m \u001b[0;34m\u001b[0m\u001b[0m\n\u001b[1;32m      6\u001b[0m \u001b[0;31m# Trying to change the value will generate an error\u001b[0m\u001b[0;34m\u001b[0m\u001b[0;34m\u001b[0m\u001b[0;34m\u001b[0m\u001b[0m\n\u001b[0;32m----> 7\u001b[0;31m \u001b[0ma_tuple\u001b[0m\u001b[0;34m[\u001b[0m\u001b[0;36m0\u001b[0m\u001b[0;34m]\u001b[0m \u001b[0;34m=\u001b[0m \u001b[0;36m4\u001b[0m\u001b[0;34m\u001b[0m\u001b[0;34m\u001b[0m\u001b[0m\n\u001b[0m",
      "\u001b[0;31mTypeError\u001b[0m: 'tuple' object does not support item assignment"
     ]
    }
   ],
   "source": [
    "a_tuple = (2, 'values', 'here', False)\n",
    "\n",
    "print(a_tuple)\n",
    "print(a_tuple[2])\n",
    "\n",
    "# Trying to change the value will generate an error\n",
    "a_tuple[0] = 4"
   ]
  },
  {
   "cell_type": "markdown",
   "metadata": {},
   "source": [
    "Tuples are sometimes used when creating dictionaries, which we'll look at next.\n",
    "\n",
    "As with lists, there's much more we can do with tuples. To learn more about tuples and how they work, you can review [the Python tutorial section for them here](https://docs.python.org/3/tutorial/datastructures.html#tuples-and-sequences)."
   ]
  },
  {
   "cell_type": "markdown",
   "metadata": {},
   "source": [
    "### Dictionaries (also known as \"Hash Maps\")\n",
    "\n",
    "Dictionaries are data structures that associate a collection of keys to corresponding values.\n",
    "\n",
    "For example, in the next cell, we are creating a dictionary that associates the key `'key_one'` with the value `'some value'` and the key `'key_two'` with the value `'some other value'`."
   ]
  },
  {
   "cell_type": "code",
   "execution_count": 35,
   "metadata": {},
   "outputs": [
    {
     "data": {
      "text/plain": [
       "{'key_one': 'some value', 'key_two': 'some other value'}"
      ]
     },
     "execution_count": 35,
     "metadata": {},
     "output_type": "execute_result"
    }
   ],
   "source": [
    "my_dictionary = {\n",
    "    'key_one': 'some value',\n",
    "    'key_two': 'some other value'\n",
    "}\n",
    "\n",
    "my_dictionary"
   ]
  },
  {
   "cell_type": "markdown",
   "metadata": {},
   "source": [
    "As with lists, dictionaries can contain different types of data, both for values and for keys, however all keys must use immutable variable types."
   ]
  },
  {
   "cell_type": "code",
   "execution_count": 46,
   "metadata": {},
   "outputs": [
    {
     "data": {
      "text/plain": [
       "{3: True,\n",
       " 'key': 2.71828,\n",
       " (1, 'this', False): {'another': 'dictionary',\n",
       "  'as a': 'value',\n",
       "  'with': 'a tuple',\n",
       "  'as': 'a key',\n",
       "  'but': 'not',\n",
       "  'a list': 'as a key'},\n",
       " 'lists': ['can', 'be', 'values', True]}"
      ]
     },
     "execution_count": 46,
     "metadata": {},
     "output_type": "execute_result"
    }
   ],
   "source": [
    "{\n",
    "    3: True,\n",
    "    'key': 2.71828,\n",
    "    (1, 'this', False): {\n",
    "        'another': 'dictionary',\n",
    "        'as a': 'value',\n",
    "        'with': 'a tuple',\n",
    "        'as': 'a key',\n",
    "        'but': 'not',\n",
    "        'a list': 'as a key'\n",
    "    },\n",
    "    'lists': ['can', 'be', 'values', True]\n",
    "}"
   ]
  },
  {
   "cell_type": "markdown",
   "metadata": {},
   "source": [
    "In practice, however, dictionaries are most often used to look up values or functions, and because of that, keys are usually just string values."
   ]
  },
  {
   "cell_type": "markdown",
   "metadata": {},
   "source": [
    "To retrieve a value from a dictionary, we can use the key we associated with that value. For example, to retrieve the value `'some value'` from `my_dictionary` defined above, we would use `'key_one'`."
   ]
  },
  {
   "cell_type": "code",
   "execution_count": 47,
   "metadata": {},
   "outputs": [
    {
     "data": {
      "text/plain": [
       "'some value'"
      ]
     },
     "execution_count": 47,
     "metadata": {},
     "output_type": "execute_result"
    }
   ],
   "source": [
    "my_dictionary['key_one']"
   ]
  },
  {
   "cell_type": "markdown",
   "metadata": {},
   "source": [
    "We can also change the value associated with a key in a dictionary in the same way we do with lists.\n",
    "\n",
    "For example, to change the value associated with `'key_two'` in `my_dictionary`, we first select that value, then use the equals sign to reassign a new value to the same key."
   ]
  },
  {
   "cell_type": "code",
   "execution_count": 49,
   "metadata": {},
   "outputs": [
    {
     "data": {
      "text/plain": [
       "{'key_one': 'some value', 'key_two': 'some new value'}"
      ]
     },
     "execution_count": 49,
     "metadata": {},
     "output_type": "execute_result"
    }
   ],
   "source": [
    "my_dictionary['key_two'] = 'some new value'\n",
    "\n",
    "my_dictionary"
   ]
  },
  {
   "cell_type": "markdown",
   "metadata": {},
   "source": [
    "Since the keys in a dictionary are not just counting numbers, we may need to see what they are. We can do that by using the dictionary's `keys` function. (As an aside, functions on objects like a dictionary are usually referred to as \"methods\".)"
   ]
  },
  {
   "cell_type": "code",
   "execution_count": 50,
   "metadata": {},
   "outputs": [
    {
     "data": {
      "text/plain": [
       "dictionary_keys(['key_one', 'key_two'])"
      ]
     },
     "execution_count": 50,
     "metadata": {},
     "output_type": "execute_result"
    }
   ],
   "source": [
    "my_dictionary.keys()"
   ]
  },
  {
   "cell_type": "markdown",
   "metadata": {},
   "source": [
    "Although less useful, we can also get the values of a dictionary using its `values` method, and its key-value pairs using the `items` method."
   ]
  },
  {
   "cell_type": "code",
   "execution_count": 52,
   "metadata": {},
   "outputs": [
    {
     "data": {
      "text/plain": [
       "dictionary_values(['some value', 'some new value'])"
      ]
     },
     "execution_count": 52,
     "metadata": {},
     "output_type": "execute_result"
    }
   ],
   "source": [
    "my_dictionary.values()"
   ]
  },
  {
   "cell_type": "code",
   "execution_count": 54,
   "metadata": {},
   "outputs": [
    {
     "data": {
      "text/plain": [
       "dictionary_items([('key_one', 'some value'), ('key_two', 'some new value')])"
      ]
     },
     "execution_count": 54,
     "metadata": {},
     "output_type": "execute_result"
    }
   ],
   "source": [
    "my_dictionary.items()"
   ]
  },
  {
   "cell_type": "markdown",
   "metadata": {},
   "source": [
    "As with lists and tuples, there is much, much more we can do with dictionaries. To learn more about dictionaries and how they work, you can review [the Python tutorial section for them here](https://docs.python.org/3/tutorial/datastructures.html#dictionaries).\n",
    "\n",
    "### Sorting data summary\n",
    "A list, or an array, is an ordered collection of data. List values are written as comma-separated lists enclosed in square brackets.\n",
    "\n",
    "`my_list = [ 1, 2, 3, 4, 5, 6, 7, 8, 9, 10 ]`\n",
    "\n",
    "A tuple is an immutable (unchangeable) collection of data enclosed in parentheses.\n",
    "\n",
    "`my_tuple = (2, 'values', 'here', False)`\n",
    "\n",
    "Dictionaries are data structures that associate a collection of keys to corresponding values. These are enclosed in curly brackets and are composed of keys and associated values.\n",
    "\n",
    "`my_dictionary = {\n",
    "    'key_one': 'some value',\n",
    "    'key_two': 'some other value'\n",
    "}`\n",
    "\n",
    "**Play with the code below to explore dictionaries. Here are a few things you might try:**\n",
    "\n",
    "* What happens if you ask for the element at using a key that is not in the dictionary?\n",
    "* How would you retrieve the list of company divisions from the dictionary?\n",
    "* How might you retrieve Bob Jones' telephone number from the dictionary?"
   ]
  },
  {
   "cell_type": "code",
   "execution_count": 72,
   "metadata": {},
   "outputs": [],
   "source": [
    "company = {\n",
    "    'divisions': [\n",
    "        'Human Resources',\n",
    "        'Research & Development',\n",
    "        'Design',\n",
    "        'Engineering',\n",
    "        'Sales',\n",
    "        'Marketing',\n",
    "        'Finance',\n",
    "        'Legal'\n",
    "    ],\n",
    "    'employees': [\n",
    "        {\n",
    "            'id': 125232,\n",
    "            'name': 'Jenny Martin',\n",
    "            'position': 'Sr. Software Engineer',\n",
    "            'salary': 165000,\n",
    "            'division': 'Engineering'\n",
    "        },\n",
    "        {\n",
    "            'id': 653943,\n",
    "            'name': 'Bob Jones',\n",
    "            'position': 'Jr. Software Engineer',\n",
    "            'salary': 59200,\n",
    "            'division': 'Engineering'\n",
    "        },\n",
    "        {\n",
    "            'id': 653943,\n",
    "            'name': 'Althea Raines',\n",
    "            'position': 'Chief Marketing Officer',\n",
    "            'salary': 596400,\n",
    "            'division': 'Sales'\n",
    "        }\n",
    "    ]\n",
    "}"
   ]
  },
  {
   "cell_type": "code",
   "execution_count": 70,
   "metadata": {},
   "outputs": [],
   "source": [
    "# Enter your code here\n"
   ]
  },
  {
   "cell_type": "markdown",
   "metadata": {},
   "source": [
    "## 5. Functions and modules (we've used a function already!)\n",
    "\n",
    "Now that we know about these data structures, let's look at how to package our code into reusable chunks.\n",
    "\n",
    "When we wrote the statement `print(contents)` above to see the contents of the file, we were calling a function. A function is a reusable, packaged set of code statements, potentially with some configuration parameters, that can be executed and may return a value. Executing a function with some data is called \"calling\" the function with \"arguments\".\n",
    "\n",
    "Let's say we have a collection of statements that takes some numbers and provides a tuple of their sum and difference:"
   ]
  },
  {
   "cell_type": "code",
   "execution_count": 55,
   "metadata": {},
   "outputs": [
    {
     "data": {
      "text/plain": [
       "(7, -1)"
      ]
     },
     "execution_count": 55,
     "metadata": {},
     "output_type": "execute_result"
    }
   ],
   "source": [
    "a = 3\n",
    "b = 4\n",
    "\n",
    "a_plus_b = a + b\n",
    "a_minus_b = a - b\n",
    "(a_plus_b, a_minus_b)"
   ]
  },
  {
   "cell_type": "markdown",
   "metadata": {},
   "source": [
    "To turn this into a function, we turn that code into a block like we did with the `with` statement above. This time, we'll use `def` to define a function. After `def`, we need to give the function a name, which we'll use to call it later. Following that, we need to specify the arguments (and optionally their types and default values). The statement ends in a colon (`:`), which tells Python to look for a block of code after that line.\n",
    "\n",
    "In the block, we need to put the `return` keyword before the tuple to tell Python that we want to pass this value back once the function's execution is done.\n",
    "\n",
    "Finally, we can call the new function using its name, and adding the values for `a` and `b` in parentheses."
   ]
  },
  {
   "cell_type": "code",
   "execution_count": 57,
   "metadata": {},
   "outputs": [
    {
     "data": {
      "text/plain": [
       "(7, -1)"
      ]
     },
     "execution_count": 57,
     "metadata": {},
     "output_type": "execute_result"
    }
   ],
   "source": [
    "def plus_and_minus( a:int, b:int ):\n",
    "    a_plus_b = a + b\n",
    "    a_minus_b = a - b\n",
    "    return (a_plus_b, a_minus_b)\n",
    "\n",
    "plus_and_minus(3, 4)"
   ]
  },
  {
   "cell_type": "markdown",
   "metadata": {},
   "source": [
    "**Try writing a function on your own. Create a function that takes 3 inputs (named whatever you like), and computes the difference of the first and second inputs divided by the third. Be sure to return that computed value. Then, try calling that function with a few sets of numbers to verify it does what you expect.**"
   ]
  },
  {
   "cell_type": "code",
   "execution_count": 73,
   "metadata": {},
   "outputs": [],
   "source": [
    "# Enter your code here\n",
    "\n",
    "# A. Define the function\n",
    "\n",
    "# B. Call the function with several sets of arguments\n"
   ]
  },
  {
   "cell_type": "markdown",
   "metadata": {},
   "source": [
    "To learn more about functions and the variety of options you have when writing them, review [the tutorial section on them here](https://docs.python.org/3/tutorial/controlflow.html#defining-functions).\n",
    "\n",
    "Often, the amount of code in a project gets quite large, and some of that code ends up being used in a number of places. To make things more manageable, developers often put that code into functions and call those where needed. If that still gets complex to manage, a developer can create a \"module\", sometimes also called a \"package\".\n",
    "\n",
    "A module or package is a collection of Python code that is created in its own project, and which we can import into our project when needed. The Python language developers often also use packages to provide language features that may not always be needed.\n",
    "\n",
    "Conveniently, the Python language developers provided a package for working with CSV data files. You can review [the documentation for that package here](https://docs.python.org/3/library/csv.html).\n",
    "\n",
    "To import that package, we use the `import` keyword."
   ]
  },
  {
   "cell_type": "code",
   "execution_count": 58,
   "metadata": {},
   "outputs": [],
   "source": [
    "import csv"
   ]
  },
  {
   "cell_type": "markdown",
   "metadata": {},
   "source": [
    "We can now rewrite the code above to use the CSV package. The package provides a `reader` function (called with `csv.reader`). Let's see what that gives us."
   ]
  },
  {
   "cell_type": "code",
   "execution_count": 60,
   "metadata": {},
   "outputs": [
    {
     "name": "stdout",
     "output_type": "stream",
     "text": [
      "<_csv.reader object at 0x10708af28>\n"
     ]
    }
   ],
   "source": [
    "with open('./data/data.csv') as opened_file:\n",
    "    contents = csv.reader(opened_file)\n",
    "    print(contents)"
   ]
  },
  {
   "cell_type": "markdown",
   "metadata": {},
   "source": [
    "That doesn't help much. Thankfully, Python also provides a package for inspecting objects in a program. Let's see what that tells us."
   ]
  },
  {
   "cell_type": "code",
   "execution_count": 66,
   "metadata": {},
   "outputs": [
    {
     "name": "stdout",
     "output_type": "stream",
     "text": [
      "<_csv.reader object at 0x1070ed748>\n",
      "-----------\n",
      "CSV reader\n",
      "\n",
      "Reader objects are responsible for reading and parsing tabular data\n",
      "in CSV format.\n"
     ]
    }
   ],
   "source": [
    "import inspect\n",
    "\n",
    "with open('./data/data.csv') as opened_file:\n",
    "    contents = csv.reader(opened_file)\n",
    "    print(contents)\n",
    "    print('-----------')\n",
    "    print(inspect.getdoc(contents))"
   ]
  },
  {
   "cell_type": "markdown",
   "metadata": {},
   "source": [
    "This provides a bit more information, but not much. At this point, we [go to the documentation](https://docs.python.org/3/library/csv.html), and we see the following:\n",
    "\n",
    "```\n",
    ">>> import csv\n",
    ">>> with open('eggs.csv', newline='') as csvfile:\n",
    "...     spamreader = csv.reader(csvfile, delimiter=' ', quotechar='|')\n",
    "...     for row in spamreader:\n",
    "...         print(', '.join(row))\n",
    "Spam, Spam, Spam, Spam, Spam, Baked Beans\n",
    "Spam, Lovely Spam, Wonderful Spam\n",
    "```\n",
    "\n",
    "This shows us that we have to use a `for` statement, which we haven't seen yet. That brings us to..."
   ]
  },
  {
   "cell_type": "markdown",
   "metadata": {},
   "source": [
    "## 5. Loops and iteration\n",
    "\n",
    "In computer science, the term \"iteration\" refers to making the computer repeat the same set of instructions multiple times. More commonly, a piece of code that implements an iteration is referred to as a \"loop\". While there are many kinds of loops, here, we'll look at the for loop.\n",
    "\n",
    "In Python, a for loop begins with the keyword `for`, followed by an expression using the `in` keyword that defines the loop variable (`row` in the documentation example above), and the collection of data to select values from for the loop variable (`spamreader` in the documentation example above). The statement ends in a colon `:`, indicating to Python to expect a block following the statement. The block is the set of instructions to repeat for each value in the collection of data. In the documentation example above, the block contains a single statement: `print(', '.join(row))`.\n",
    "\n",
    "In the code cell below, we've written a loop that iterates over the values in the tuple `(1, 4, 6, 5, 2)`, adds 3 to each, and prints the mathematical expression.\n",
    "\n",
    "**Explore the code below to better understand how loops and iteration work. What happens when you...**\n",
    "\n",
    "* Change the tuple to a list?\n",
    "* Modify the statements in the block?"
   ]
  },
  {
   "cell_type": "code",
   "execution_count": 69,
   "metadata": {},
   "outputs": [
    {
     "name": "stdout",
     "output_type": "stream",
     "text": [
      "1 + 3 = 4\n",
      "4 + 3 = 7\n",
      "6 + 3 = 9\n",
      "5 + 3 = 8\n",
      "2 + 3 = 5\n"
     ]
    }
   ],
   "source": [
    "for num in (1, 4, 6, 5, 2):\n",
    "    sum_value = num + 3\n",
    "    print(num, \"+ 3 =\", sum_value)"
   ]
  },
  {
   "cell_type": "markdown",
   "metadata": {},
   "source": [
    "There's much more we can learn about iteration, and Python has several unique features related to this concept, including generator expressions and list comprehensions, which are very powerful. To learn more about this, review [the Python tutorial section on for loops](https://docs.python.org/3/tutorial/controlflow.html#for-statements), [the more detailed Python documentation section on for statements](https://docs.python.org/3/reference/compound_stmts.html#for), and [the Python documentation on generators and generator expressions](https://docs.python.org/3/tutorial/classes.html#generators).\n",
    "\n",
    "Let's rewrite our CSV file reading code to use the for loop."
   ]
  },
  {
   "cell_type": "code",
   "execution_count": 74,
   "metadata": {},
   "outputs": [
    {
     "name": "stdout",
     "output_type": "stream",
     "text": [
      "['Subject', 'OSPAN_Group', 'OSPAN_Score', 'Distracter_easy', 'Distracter_hard']\n",
      "['1', 'High', '75', '114.5', '116.0']\n",
      "['2', 'High', '75', '146.6', '106.9']\n",
      "['3', 'High', '71', '152.7', '126.7']\n",
      "['4', 'High', '71', '105.3', '99.2']\n",
      "['5', 'High', '69', '108.4', '108.4']\n",
      "['6', 'High', '67', '120.6', '113.0']\n",
      "['7', 'High', '64', '114.5', '99.2']\n",
      "['8', 'High', '63', '175.9', '146.0']\n",
      "['9', 'High', '61', '114.6', '118.4']\n",
      "['10', 'High', '58', '163.4', '100.8']\n",
      "['11', 'High', '57', '109.9', '109.9']\n",
      "['12', 'High', '55', '129.8', '90.1']\n",
      "['13', 'High', '55', '111.4', '120.6']\n",
      "['14', 'High', '55', '125.2', '120.6']\n",
      "['15', 'High', '55', '140.5', '77.9']\n",
      "['16', 'High', '55', '161.3', '152.1']\n",
      "['17', 'Low', '52', '120.6', '123.7']\n",
      "['18', 'Low', '51', '142.0', '128.2']\n",
      "['19', 'Low', '51', '117.6', '129.8']\n",
      "['20', 'Low', '50', '116.0', '109.9']\n",
      "['21', 'Low', '48', '151.1', '152.7']\n",
      "['22', 'Low', '46', '119.1', '106.9']\n",
      "['23', 'Low', '41', '142.0', '135.9']\n",
      "['24', 'Low', '38', '116.1', '107.7']\n",
      "['25', 'Low', '38', '135.9', '109.9']\n",
      "['26', 'Low', '36', '148.1', '117.6']\n",
      "['27', 'Low', '22', '163.4', '154.2']\n",
      "['28', 'Low', '20', '120.6', '106.9']\n",
      "['29', 'Low', '19', '106.1', '107.7']\n"
     ]
    }
   ],
   "source": [
    "with open('./data/data.csv') as opened_file:\n",
    "    contents = csv.reader(opened_file)\n",
    "    for row in contents:\n",
    "        print(row)"
   ]
  },
  {
   "cell_type": "markdown",
   "metadata": {},
   "source": [
    "This is much better! Now we see that the CSV package's `reader` function provides us with each row of the file as a list of string values.\n",
    "\n",
    "## 6. Row field access (remember accessing values in a list by position or in a dictionary by key?)\n",
    "\n",
    "Let's take each row apart, and print the values in the row with a vertical bar inbetween.\n",
    "\n",
    "**Use what you've learned about lists to print each value in the `row` array separately, separated by the vertical bar character `|`.  For example, the row `['4', 'High', '71', '105.3', '99.2']` would print as:**\n",
    "\n",
    "**`4 | High | 71 | 105.3 | 99.2`**"
   ]
  },
  {
   "cell_type": "code",
   "execution_count": 75,
   "metadata": {},
   "outputs": [],
   "source": [
    "# Write code that prints each row's values separated by |.\n"
   ]
  },
  {
   "cell_type": "markdown",
   "metadata": {},
   "source": [
    "This is nice, but referring to those values by their positions is a bit of a pain. It would be really nice to be able to refer to each row's column values by column name. This would require the CSV package to provide us a dictionary for each row. \n",
    "\n",
    "**Explore [the CSV package documentation](https://docs.python.org/3/library/csv.html) to see if you can find something that will do that.**"
   ]
  },
  {
   "cell_type": "code",
   "execution_count": 76,
   "metadata": {},
   "outputs": [],
   "source": [
    "# Rewrite the code here using what you find in the CSV package documentation.\n"
   ]
  },
  {
   "cell_type": "markdown",
   "metadata": {},
   "source": [
    "## 7. Type conversions and template strings for output formatting\n",
    "\n",
    "One thing you may have noticed is that not all the vertical bars line up. There are sevreal ways to fix this problem, but the most common one is to use string formatting mechanisms built into the language to format the values appropriately.\n",
    "\n",
    "Before we start, though, it's important to make sure we have the data in variables using the appropriate types. We can see from our prior loop code that each row list has every value as a string type. Since most of our data are numbers, this will be a problem if we want to compute mathematical expressions using the data (which we'll do shortly).\n",
    "\n",
    "In order to fix this problem, we'll use Python's type conversion functions, which are just the names of the types.\n",
    "\n",
    "**Let's start by exploring the types of various values. Explore this by using the `type` function with other values below.**"
   ]
  },
  {
   "cell_type": "code",
   "execution_count": 77,
   "metadata": {},
   "outputs": [
    {
     "name": "stdout",
     "output_type": "stream",
     "text": [
      "some text : <class 'str'>\n",
      "345 : <class 'int'>\n",
      "2.718 : <class 'float'>\n",
      "True : <class 'bool'>\n"
     ]
    }
   ],
   "source": [
    "print('some text', ':', type('some text'))\n",
    "\n",
    "print(345, ':', type(345))\n",
    "\n",
    "print(2.718, ':', type(2.718))\n",
    "\n",
    "print(True, ':', type(True))"
   ]
  },
  {
   "cell_type": "markdown",
   "metadata": {},
   "source": [
    "To convert a string to another type, you can use the name of the type class (i.e., `int` for integer numeric values) as a function."
   ]
  },
  {
   "cell_type": "code",
   "execution_count": 79,
   "metadata": {},
   "outputs": [
    {
     "name": "stdout",
     "output_type": "stream",
     "text": [
      "before: <class 'str'> , after: <class 'int'>\n",
      "before: <class 'str'> , after: <class 'float'>\n"
     ]
    }
   ],
   "source": [
    "val = '125'\n",
    "converted = int(val)\n",
    "print('before:', type(val), ', after:', type(converted))\n",
    "\n",
    "val = '3.7'\n",
    "converted = float(val)\n",
    "print('before:', type(val), ', after:', type(converted))"
   ]
  },
  {
   "cell_type": "markdown",
   "metadata": {},
   "source": [
    "Note that if you try to convert to an incompatible type, for example, converting the text 3.7, which represents a floating point number, to an integer value, Python will generate an error."
   ]
  },
  {
   "cell_type": "code",
   "execution_count": 81,
   "metadata": {},
   "outputs": [
    {
     "ename": "ValueError",
     "evalue": "invalid literal for int() with base 10: '3.7'",
     "output_type": "error",
     "traceback": [
      "\u001b[0;31m---------------------------------------------------------------------------\u001b[0m",
      "\u001b[0;31mValueError\u001b[0m                                Traceback (most recent call last)",
      "\u001b[0;32m<ipython-input-81-06736cdd2fb1>\u001b[0m in \u001b[0;36m<module>\u001b[0;34m\u001b[0m\n\u001b[1;32m      1\u001b[0m \u001b[0mval\u001b[0m \u001b[0;34m=\u001b[0m \u001b[0;34m'3.7'\u001b[0m\u001b[0;34m\u001b[0m\u001b[0;34m\u001b[0m\u001b[0m\n\u001b[0;32m----> 2\u001b[0;31m \u001b[0mconverted\u001b[0m \u001b[0;34m=\u001b[0m \u001b[0mint\u001b[0m\u001b[0;34m(\u001b[0m\u001b[0mval\u001b[0m\u001b[0;34m)\u001b[0m\u001b[0;34m\u001b[0m\u001b[0;34m\u001b[0m\u001b[0m\n\u001b[0m\u001b[1;32m      3\u001b[0m \u001b[0mprint\u001b[0m\u001b[0;34m(\u001b[0m\u001b[0;34m'before:'\u001b[0m\u001b[0;34m,\u001b[0m \u001b[0mtype\u001b[0m\u001b[0;34m(\u001b[0m\u001b[0mval\u001b[0m\u001b[0;34m)\u001b[0m\u001b[0;34m,\u001b[0m \u001b[0;34m', after:'\u001b[0m\u001b[0;34m,\u001b[0m \u001b[0mtype\u001b[0m\u001b[0;34m(\u001b[0m\u001b[0mconverted\u001b[0m\u001b[0;34m)\u001b[0m\u001b[0;34m)\u001b[0m\u001b[0;34m\u001b[0m\u001b[0;34m\u001b[0m\u001b[0m\n",
      "\u001b[0;31mValueError\u001b[0m: invalid literal for int() with base 10: '3.7'"
     ]
    }
   ],
   "source": [
    "val = '3.7'\n",
    "converted = int(val)\n",
    "print('before:', type(val), ', after:', type(converted))"
   ]
  },
  {
   "cell_type": "markdown",
   "metadata": {},
   "source": [
    "Converting an actual floating point type to an integer is a valid operation, but be aware that Python will remove any fractional part of the number during conversion, meaning you will lose precision in your data."
   ]
  },
  {
   "cell_type": "code",
   "execution_count": 82,
   "metadata": {},
   "outputs": [
    {
     "name": "stdout",
     "output_type": "stream",
     "text": [
      "before: 3.7 <class 'float'> , after: 3 <class 'int'>\n"
     ]
    }
   ],
   "source": [
    "val = 3.7\n",
    "converted = int(val)\n",
    "print('before:', val, type(val), ', after:', converted, type(converted))"
   ]
  },
  {
   "cell_type": "markdown",
   "metadata": {},
   "source": [
    "**Explore type conversion in the cell below to be sure you understand it. Some things you may want to try:**\n",
    "\n",
    "* Convert an integer value into a floating point value\n",
    "* Convert a true/false value (type `bool`) into an integer value\n",
    "* Convert a true/false value into a string value"
   ]
  },
  {
   "cell_type": "code",
   "execution_count": 84,
   "metadata": {},
   "outputs": [],
   "source": [
    "# Explore type conversions here using the `int`, `float`, `str`, `bool`, and `type` functions\n"
   ]
  },
  {
   "cell_type": "markdown",
   "metadata": {},
   "source": [
    "Let's rewrite our CSV reading code above to fix the types of the row values. Looking at the data, it seems we have columns with the following types:\n",
    "\n",
    "* `Subject`: integer (`int`)\n",
    "* `OSPAN_Group`: string (`str`)\n",
    "* `OSPAN_Score`: integer (`int`)\n",
    "* `Distracter_easy`: floating point (`float`)\n",
    "* `Distracter_hard`: floating point (`float`)\n",
    "\n",
    "Also, notice that the first row will not be able to be converted, as it has the column headings in it. We'll need to figure out how to handle that."
   ]
  },
  {
   "cell_type": "code",
   "execution_count": 96,
   "metadata": {},
   "outputs": [
    {
     "name": "stdout",
     "output_type": "stream",
     "text": [
      "Subject | OSPAN_Group | OSPAN_Score | Distracter_easy | Distracter_hard\n",
      "1 | High | 75 | 114.5 | 116.0\n",
      "2 | High | 75 | 146.6 | 106.9\n",
      "3 | High | 71 | 152.7 | 126.7\n",
      "4 | High | 71 | 105.3 | 99.2\n",
      "5 | High | 69 | 108.4 | 108.4\n",
      "6 | High | 67 | 120.6 | 113.0\n",
      "7 | High | 64 | 114.5 | 99.2\n",
      "8 | High | 63 | 175.9 | 146.0\n",
      "9 | High | 61 | 114.6 | 118.4\n",
      "10 | High | 58 | 163.4 | 100.8\n",
      "11 | High | 57 | 109.9 | 109.9\n",
      "12 | High | 55 | 129.8 | 90.1\n",
      "13 | High | 55 | 111.4 | 120.6\n",
      "14 | High | 55 | 125.2 | 120.6\n",
      "15 | High | 55 | 140.5 | 77.9\n",
      "16 | High | 55 | 161.3 | 152.1\n",
      "17 | Low | 52 | 120.6 | 123.7\n",
      "18 | Low | 51 | 142.0 | 128.2\n",
      "19 | Low | 51 | 117.6 | 129.8\n",
      "20 | Low | 50 | 116.0 | 109.9\n",
      "21 | Low | 48 | 151.1 | 152.7\n",
      "22 | Low | 46 | 119.1 | 106.9\n",
      "23 | Low | 41 | 142.0 | 135.9\n",
      "24 | Low | 38 | 116.1 | 107.7\n",
      "25 | Low | 38 | 135.9 | 109.9\n",
      "26 | Low | 36 | 148.1 | 117.6\n",
      "27 | Low | 22 | 163.4 | 154.2\n",
      "28 | Low | 20 | 120.6 | 106.9\n",
      "29 | Low | 19 | 106.1 | 107.7\n"
     ]
    }
   ],
   "source": [
    "with open('./data/data.csv') as opened_file:\n",
    "    contents = csv.DictReader(opened_file)\n",
    "    cols = contents.fieldnames\n",
    "    print(cols[0], '|', cols[1], '|', cols[2], '|', cols[3], '|', cols[4])\n",
    "    for row in contents:\n",
    "        print(int(row['Subject']), '|', row['OSPAN_Group'], '|', int(row['OSPAN_Score']),\n",
    "              '|', float(row['Distracter_easy']), '|', float(row['Distracter_hard']))"
   ]
  },
  {
   "cell_type": "markdown",
   "metadata": {},
   "source": [
    "This is looking pretty good, but now we want to be able to format our output so that columns match up in a table.\n",
    "\n",
    "To do this, we'll use Python's formatted \"f-strings\". To create an \"f-string\", we write text as if we're creating a regular string, but instead of enclosing the text in just quotes, we add an `f` in front of the starting quote mark. This tells Python that the string should be parsed for formatting. To add in our data, we can use curly braces `{` and `}` to create sections of the string that should be evaluated by Python for a value to be displayed.\n",
    "\n",
    "An example of an \"f-string\" is below. Note that the data from `org` and the `expense` dictionary are used within the `{}` sections to specify what to print.\n",
    "\n",
    "**Explore \"f-strings\" by printing various data with specific formatting**"
   ]
  },
  {
   "cell_type": "code",
   "execution_count": 116,
   "metadata": {},
   "outputs": [
    {
     "name": "stdout",
     "output_type": "stream",
     "text": [
      "The church spent $ 26952.94 on building this year, and has budgeted $ 28500.0 for next year's expenses, a change of 0.05739856208636243.\n"
     ]
    }
   ],
   "source": [
    "org = \"The church\"\n",
    "expense = {\n",
    "    'purpose': 'building',\n",
    "    'current_year_actual': 26952.94,\n",
    "    'next_year_budgeted': 28500.00\n",
    "}\n",
    "\n",
    "message = f\"{org} spent $ {expense['current_year_actual']} on {expense['purpose']} this year, and has budgeted $ {expense['next_year_budgeted']} for next year's expenses, a change of {(expense['next_year_budgeted'] - expense['current_year_actual']) / expense['current_year_actual']}.\"\n",
    "print(message)"
   ]
  },
  {
   "cell_type": "markdown",
   "metadata": {},
   "source": [
    "This is good, and we're even doing a bit of math in the message, but we have some problems with the number of decimal places displayed, and it would be nice to have thousands separators on those dollar amounts.\n",
    "\n",
    "To do this, we'll add formatting instructions to the `{}` sections to tell Python how to format that data.\n",
    "\n",
    "Formatting instructions differ depending on the type of data and how you want to display it. For most work, we'll only be using a few formatting options. The most important are the field length and format indicator.\n",
    "\n",
    "* For integer data, use the `d` format indicator.\n",
    "* For floating point data, use the `f` indicator for fixed-point format, the `e` indicator for exponent notation, or the `g` indicator for smart switching between `f` and `e` depnding on the magnitude of the value.\n",
    "* For percents represented as floating point values between 0 and 1, use the `%` indicator to automatically convert these to percentage values from 0% to 100%.\n",
    "\n",
    "However, Python has a large number of formatting options available for \"f-strings\".  Rather than cover all that information here, take a moment to review [the format specification language here](https://docs.python.org/3/library/string.html#format-specification-mini-language) now.\n",
    "\n",
    "Welcome back! Now that we have an idea of how to write formatting strings, let's look at the formatting examples below, and take them apart into their pieces. "
   ]
  },
  {
   "cell_type": "code",
   "execution_count": 112,
   "metadata": {},
   "outputs": [
    {
     "name": "stdout",
     "output_type": "stream",
     "text": [
      "The church spent $ 26,952.94 on building this year, and has budgeted $ 28,500.00 for next year's expenses, a change of +5.74%.\n"
     ]
    }
   ],
   "source": [
    "# floating point value\n",
    "# 0,.2f ==> fixed format (f), variable length (0), ',' as thousands separator, 2 decimal places\n",
    "cy_act = f\"$ {expense['current_year_actual']:0,.2f}\"\n",
    "ny_bud = f\"$ {expense['next_year_budgeted']:0,.2f}\"\n",
    "\n",
    "chg_val = (expense['next_year_budgeted'] - expense['current_year_actual']) / expense['current_year_actual']\n",
    "# floating point value\n",
    "# +0.2% ==> representing percentage, percent format (%), leading +/- sign (+), variable length (0), 2 decimal places\n",
    "pct_chg = f\"{chg_val:+0.2%}\"\n",
    "\n",
    "# Now all of these are already formatted strings, so we'll use the string formatting specifier (s) to format them.\n",
    "message = f\"{org:s} spent {cy_act:s} on {expense['purpose']:s} this year, and has budgeted {ny_bud:s} for next year's expenses, a change of {pct_chg:s}.\"\n",
    "print(message)"
   ]
  },
  {
   "cell_type": "markdown",
   "metadata": {},
   "source": [
    "## 8. Write formatted output to the screen\n",
    "\n",
    "Now that we know how to format data that we print to the screen, let's rework what we're printing out from the data file.\n",
    "\n",
    "**Modify your previous CSV code using \"f-strings\" and format specifications to print a formatted table of values with aligned columns.**"
   ]
  },
  {
   "cell_type": "code",
   "execution_count": 113,
   "metadata": {},
   "outputs": [
    {
     "name": "stdout",
     "output_type": "stream",
     "text": [
      "Subject | OSPAN_Group | OSPAN_Score | Distracter_easy | Distracter_hard\n",
      "1 | High | 75 | 114.5 | 116.0\n",
      "2 | High | 75 | 146.6 | 106.9\n",
      "3 | High | 71 | 152.7 | 126.7\n",
      "4 | High | 71 | 105.3 | 99.2\n",
      "5 | High | 69 | 108.4 | 108.4\n",
      "6 | High | 67 | 120.6 | 113.0\n",
      "7 | High | 64 | 114.5 | 99.2\n",
      "8 | High | 63 | 175.9 | 146.0\n",
      "9 | High | 61 | 114.6 | 118.4\n",
      "10 | High | 58 | 163.4 | 100.8\n",
      "11 | High | 57 | 109.9 | 109.9\n",
      "12 | High | 55 | 129.8 | 90.1\n",
      "13 | High | 55 | 111.4 | 120.6\n",
      "14 | High | 55 | 125.2 | 120.6\n",
      "15 | High | 55 | 140.5 | 77.9\n",
      "16 | High | 55 | 161.3 | 152.1\n",
      "17 | Low | 52 | 120.6 | 123.7\n",
      "18 | Low | 51 | 142.0 | 128.2\n",
      "19 | Low | 51 | 117.6 | 129.8\n",
      "20 | Low | 50 | 116.0 | 109.9\n",
      "21 | Low | 48 | 151.1 | 152.7\n",
      "22 | Low | 46 | 119.1 | 106.9\n",
      "23 | Low | 41 | 142.0 | 135.9\n",
      "24 | Low | 38 | 116.1 | 107.7\n",
      "25 | Low | 38 | 135.9 | 109.9\n",
      "26 | Low | 36 | 148.1 | 117.6\n",
      "27 | Low | 22 | 163.4 | 154.2\n",
      "28 | Low | 20 | 120.6 | 106.9\n",
      "29 | Low | 19 | 106.1 | 107.7\n"
     ]
    }
   ],
   "source": [
    "with open('./data/data.csv') as opened_file:\n",
    "    contents = csv.DictReader(opened_file)\n",
    "    cols = contents.fieldnames\n",
    "    # TODO: 3. Print the headers using a formatted f-string, ensuring column sizes are correct.\n",
    "    print(cols[0], '|', cols[1], '|', cols[2], '|', cols[3], '|', cols[4])\n",
    "    # TODO: 4. Add a horizontal rule of the correct length to separate headers from data.\n",
    "    for row in contents:\n",
    "        # TODO: 1. Create formatted strings, ensuring that fields are the correct size.\n",
    "        # TODO: 2. Adjust below to print the new formatted strings.\n",
    "        print(int(row['Subject']), '|', row['OSPAN_Group'], '|', int(row['OSPAN_Score']),\n",
    "              '|', float(row['Distracter_easy']), '|', float(row['Distracter_hard']))\n"
   ]
  },
  {
   "cell_type": "markdown",
   "metadata": {},
   "source": [
    "Now, a bit of cleanup. We can print our table, but things are getting a little harder to read. Now is a good time to separate a piece of code that does a particular task into a function, then call it from here. Since all this formatting is what started the clutter in our code, let's create a new function that does the formatting of a row's data. Remember that we'll need to pass the row data as an argument to the function.\n",
    "\n",
    "**Write a function that handles row formatting, and simplify the `with` statement's block by using your new function.**"
   ]
  },
  {
   "cell_type": "code",
   "execution_count": 117,
   "metadata": {},
   "outputs": [],
   "source": [
    "# 1. TODO: Write a new function that handles formatting of a row. Your function can be named whatever you like,\n",
    "#          but should take only one argument, a row of the data set (which is type `OrderedDict`).\n",
    "\n",
    "# 2. TODO: Copy the code from your last effort above, and modify it to make use of your new function.\n"
   ]
  },
  {
   "cell_type": "markdown",
   "metadata": {},
   "source": [
    "**Write another function that prints the header row and horizontal rule, then simplify your code once more by using this second new function.**"
   ]
  },
  {
   "cell_type": "code",
   "execution_count": 118,
   "metadata": {},
   "outputs": [],
   "source": [
    "# 1. TODO: Write a new function that handles formatting and printing the table header. Your function can be named whatever you like,\n",
    "#          but should take only one argument, the list of column names.\n",
    "\n",
    "# 2. TODO: Copy the code from your immediately previous work, and modify it to make use of your new function.\n"
   ]
  },
  {
   "cell_type": "markdown",
   "metadata": {},
   "source": [
    "## 9. Math (i.e., change in measurement from A to B, percentage)\n",
    "\n",
    "Now that we've got our table printing nicely, we can look at doing some calculations on this data, and add the results as new columns to the table.\n",
    "\n",
    "We've seen several times how to do mathematical calculations. These are similar to how you enter them in a calculator.\n",
    "\n",
    "To add them as new columns in the result table, we'll need to do a few things for each new column:\n",
    "\n",
    "* Create a function that does each calculation we're interested in.\n",
    "* Within the iteration block, call that function to calculate the result, and add it to the row's dictionary object.\n",
    "* Decide on header text for each calculation, and update our table header printing function.\n",
    "* Update our row formatting function to add in the new calculated result.\n",
    "\n",
    "**Add a new calculated column to your table showing the difference $Distracter_{easy} - Distracter_{hard}$.**"
   ]
  },
  {
   "cell_type": "code",
   "execution_count": 119,
   "metadata": {},
   "outputs": [],
   "source": [
    "# 1. TODO: Write a new function that computes the desired difference value.\n",
    "\n",
    "# 2. TODO: Copy all the code from above, including the row formatting function and the header printing\n",
    "#          function. Modify them according to the last 3 bullets above.\n"
   ]
  },
  {
   "cell_type": "markdown",
   "metadata": {},
   "source": [
    "**Add a new calculated column to your table showing the percent difference $\\frac{Distracter_{easy} - Distracter_{hard}}{Distracter_{easy}}$.**"
   ]
  },
  {
   "cell_type": "code",
   "execution_count": 123,
   "metadata": {},
   "outputs": [],
   "source": [
    "# 1. TODO: Write a new function that computes the desired percentage value. Hint: can you use the\n",
    "#          difference computation function created above to help write the percent difference function?\n",
    "\n",
    "# 2. TODO: Copy all the code from above, including the row formatting function, the header printing\n",
    "#          function and the difference function. Modify them according to the last 3 bullets above.\n"
   ]
  },
  {
   "cell_type": "markdown",
   "metadata": {},
   "source": [
    "To learn more about what Python offers for mathematical calculations, you can review [the tutorial section on using Python as a calculator](https://docs.python.org/3/tutorial/introduction.html#using-python-as-a-calculator) and [the tutorial introduction to Python's math package](https://docs.python.org/3/tutorial/stdlib.html#mathematics)."
   ]
  },
  {
   "cell_type": "markdown",
   "metadata": {},
   "source": [
    "## 10. Conditionals\n",
    "\n",
    "At times, we also want to be able to include values only if they belong to specific groups. For example, as we iterate through the rows of the data set, we may want to keep a count of the number of records in each `OSPAN_Group` and a total of all `OSPAN_Score`, `Distracter_easy` and `Distracter_hard` values for each group, so that we can calculate the average `OSPAN_Score` value for each `OSPAN_Group`.\n",
    "\n",
    "When computers make decisions about what statements to execute, they use rules called \"conditions\", and such a decision is called a \"conditional statement\". The most common form of conditional statement looks like\n",
    "\n",
    "```\n",
    "if condition:\n",
    "    block\n",
    "else:\n",
    "    block\n",
    "```\n",
    "\n",
    "This kind of statement allows for the developer to specify multiple possible blocks of statements depending on the value of some data.\n",
    "\n",
    "The `condition` in an if-else statement must evaluate to either `True` or `False`. Conditions are usually written as logical assertions using comparison or boolean operators.\n",
    "\n",
    "For example, if we want to check whether the `OSPAN_Group` value in a row is `'High'`, we might write a condition that looks like `row['OSPAN_Group'] == 'High'`. The `==` operator checks that the value on the left side is equal to the value on the right side. If we wanted to check that a value `my_number` is greater than 3, we could write `my_number > 3`.\n",
    "\n",
    "If needed, if statements can omit the `else` section, or can have multiple condition checks using the `elif` keyword:\n",
    "\n",
    "```\n",
    "# No else\n",
    "if condition:\n",
    "    block\n",
    "\n",
    "# Multiple conditions\n",
    "if condition_1:\n",
    "    block\n",
    "elif condition_2:\n",
    "    block\n",
    "elif condition_3:\n",
    "    block\n",
    "...\n",
    "else:\n",
    "    block\n",
    "```\n",
    "\n",
    "You can read [more on if statements in the tutorial section here](https://docs.python.org/3/tutorial/controlflow.html#if-statements), and [more on conditions in the tutorial section on that here](https://docs.python.org/3/tutorial/datastructures.html#more-on-conditions)\n",
    "\n",
    "**Use everything you've learned so far to add a footer to your table that has computed average values for each `OSPAN_Group` for the `Distracter_easy` and `Distracter_hard` columns.**"
   ]
  },
  {
   "cell_type": "code",
   "execution_count": null,
   "metadata": {},
   "outputs": [],
   "source": [
    "# Good luck! Ask for help if you need it!\n"
   ]
  },
  {
   "cell_type": "markdown",
   "metadata": {},
   "source": [
    "## Congratulations! You made it!\n",
    "\n",
    "If you'd like to continue exploring programming for neuroscientific purposes, [open this notebook to work through implementing a simple 3-layer neural network](https://mybinder.org/v2/gh/loyno-mathcs/neurocamp_programming/master?filepath=NeuralNetwork.ipynb)!"
   ]
  },
  {
   "cell_type": "code",
   "execution_count": null,
   "metadata": {},
   "outputs": [],
   "source": []
  }
 ],
 "metadata": {
  "kernelspec": {
   "display_name": "Python 3",
   "language": "python",
   "name": "python3"
  },
  "language_info": {
   "codemirror_mode": {
    "name": "ipython",
    "version": 3
   },
   "file_extension": ".py",
   "mimetype": "text/x-python",
   "name": "python",
   "nbconvert_exporter": "python",
   "pygments_lexer": "ipython3",
   "version": "3.7.3"
  }
 },
 "nbformat": 4,
 "nbformat_minor": 2
}
